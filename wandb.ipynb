{
 "cells": [
  {
   "cell_type": "code",
   "execution_count": 30,
   "metadata": {},
   "outputs": [],
   "source": [
    "import wandb, re\n",
    "# wandb.login()\n",
    "api = wandb.Api()"
   ]
  },
  {
   "cell_type": "code",
   "execution_count": 31,
   "metadata": {},
   "outputs": [
    {
     "name": "stdout",
     "output_type": "stream",
     "text": [
      "#0\n",
      "Run Name: tbishnoi-example-np\n",
      "Run ID: des7zvku\n",
      "Config: {'lr': 0.0001, 'bias': False, 'entity': 'adorable-lantanas', 'epochs': 10, 'project': 'learning-rules', 'momentum': 0.9, 'nesterov': True, 'batch_size': 32, 'num_hidden': 100, 'num_inputs': 784, 'num_outputs': 10, 'rule_select': 'np', 'clamp_output': True, 'weight_decay': 0.001, 'model_filepath': 'models/model-240725-081109.pth', 'activation_type': 'relu'}\n",
      "----------------------------------------\n",
      "#1\n",
      "Run Name: tbishnoi-example-wp\n",
      "Run ID: 14gq92su\n",
      "Config: {'lr': 0.0001, 'bias': False, 'entity': 'adorable-lantanas', 'epochs': 10, 'project': 'learning-rules', 'momentum': 0.9, 'nesterov': True, 'batch_size': 32, 'num_hidden': 100, 'num_inputs': 784, 'num_outputs': 10, 'rule_select': 'wp', 'clamp_output': True, 'weight_decay': 0.001, 'model_filepath': 'models/model-240725-080653.pth', 'activation_type': 'relu'}\n",
      "----------------------------------------\n",
      "#2\n",
      "Run Name: tbishnoi-example-hebb\n",
      "Run ID: yzkvch8a\n",
      "Config: {'lr': 0.0001, 'bias': False, 'entity': 'adorable-lantanas', 'epochs': 10, 'project': 'learning-rules', 'momentum': 0.9, 'nesterov': True, 'batch_size': 32, 'num_hidden': 100, 'num_inputs': 784, 'num_outputs': 10, 'rule_select': 'hebb', 'clamp_output': True, 'weight_decay': 0.001, 'model_filepath': 'models/model-240725-080250.pth', 'activation_type': 'relu'}\n",
      "----------------------------------------\n",
      "#3\n",
      "Run Name: tbishnoi-example-backprop\n",
      "Run ID: zsb14f3x\n",
      "Config: {'lr': 0.0001, 'bias': False, 'entity': 'adorable-lantanas', 'epochs': 10, 'project': 'learning-rules', 'momentum': 0.9, 'nesterov': True, 'batch_size': 32, 'num_hidden': 100, 'num_inputs': 784, 'num_outputs': 10, 'rule_select': 'backprop', 'clamp_output': True, 'weight_decay': 0.001, 'model_filepath': 'models/model-240725-075850.pth', 'activation_type': 'relu'}\n",
      "----------------------------------------\n"
     ]
    }
   ],
   "source": [
    "entity = \"adorable-lantanas\"\n",
    "project = \"learning-rules\"\n",
    "\n",
    "project_path = f\"{entity}/{project}\"\n",
    "runs = api.runs(project_path)\n",
    "\n",
    "search_pattern = r\"example\" # search all runs using key\n",
    "\n",
    "# will print details of all runs, select run id of your run\n",
    "# and paste it in the next cell\n",
    "n = 0\n",
    "for run in reversed(runs):\n",
    "    if re.search(search_pattern, run.name):\n",
    "        print(f\"#{n}\")\n",
    "        print(f\"Run Name: {run.name}\")\n",
    "        print(f\"Run ID: {run.id}\")\n",
    "        print(\"Config:\", run.config)\n",
    "        print(\"-\" * 40)\n",
    "        n+=1"
   ]
  },
  {
   "cell_type": "code",
   "execution_count": 32,
   "metadata": {},
   "outputs": [],
   "source": [
    "run_id = \"zsb14f3x\" # retrived from above\n",
    "run_path = f\"{project_path}/{run_id}\"\n",
    "\n",
    "run = api.run(run_path)\n",
    "\n",
    "configs = run.config  # Hyperparameters and config info\n",
    "summary = run.summary  # Summary metrics\n",
    "history = run.history(samples=1000000)  # Full history of metrics\n",
    "files = run.files()  # Files associated with the run"
   ]
  },
  {
   "cell_type": "code",
   "execution_count": 33,
   "metadata": {},
   "outputs": [
    {
     "data": {
      "text/plain": [
       "{'lr': 0.0001,\n",
       " 'bias': False,\n",
       " 'entity': 'adorable-lantanas',\n",
       " 'epochs': 10,\n",
       " 'project': 'learning-rules',\n",
       " 'momentum': 0.9,\n",
       " 'nesterov': True,\n",
       " 'batch_size': 32,\n",
       " 'num_hidden': 100,\n",
       " 'num_inputs': 784,\n",
       " 'num_outputs': 10,\n",
       " 'rule_select': 'backprop',\n",
       " 'clamp_output': True,\n",
       " 'weight_decay': 0.001,\n",
       " 'model_filepath': 'models/model-240725-075850.pth',\n",
       " 'activation_type': 'relu'}"
      ]
     },
     "execution_count": 33,
     "metadata": {},
     "output_type": "execute_result"
    }
   ],
   "source": [
    "configs"
   ]
  },
  {
   "cell_type": "code",
   "execution_count": 34,
   "metadata": {},
   "outputs": [],
   "source": [
    "import torch\n",
    "device = torch.device('cuda' if torch.cuda.is_available() else 'cpu')\n",
    "\n",
    "from utils.training_utils import select_model\n",
    "model = select_model(configs=configs, device=device)"
   ]
  },
  {
   "cell_type": "code",
   "execution_count": 35,
   "metadata": {},
   "outputs": [],
   "source": [
    "model_filepath = configs['model_filepath']\n",
    "file = run.file(model_filepath)\n",
    "_ = file.download(replace=True, root=\".\")"
   ]
  },
  {
   "cell_type": "code",
   "execution_count": 36,
   "metadata": {},
   "outputs": [
    {
     "data": {
      "text/plain": [
       "<All keys matched successfully>"
      ]
     },
     "execution_count": 36,
     "metadata": {},
     "output_type": "execute_result"
    }
   ],
   "source": [
    "model.load_state_dict(\n",
    "    torch.load(\n",
    "        model_filepath,\n",
    "        map_location=torch.device(device.type),\n",
    "    )\n",
    ")"
   ]
  },
  {
   "cell_type": "markdown",
   "metadata": {},
   "source": [
    "## View the History"
   ]
  },
  {
   "cell_type": "code",
   "execution_count": 45,
   "metadata": {},
   "outputs": [
    {
     "data": {
      "text/plain": [
       "1875     {'values': [0, 4, 0, 0, 0, 0, 0, 0, 0, 0, 0, 0...\n",
       "3751     {'_type': 'histogram', 'values': [0, 5, 0, 0, ...\n",
       "5627     {'values': [0, 12, 0, 0, 0, 0, 0, 0, 0, 0, 0, ...\n",
       "7503     {'bins': [0.09999999403953552, 0.0999999940395...\n",
       "9379     {'values': [0, 1, 0, 0, 0, 0, 0, 0, 0, 0, 0, 0...\n",
       "11255    {'values': [0, 10, 0, 0, 0, 0, 0, 0, 0, 0, 0, ...\n",
       "13131    {'values': [0, 1, 0, 0, 0, 0, 0, 0, 0, 0, 0, 0...\n",
       "15007    {'values': [0, 13, 0, 0, 0, 0, 0, 0, 0, 0, 0, ...\n",
       "16883    {'values': [0, 15, 0, 0, 0, 0, 0, 0, 0, 0, 0, ...\n",
       "18759    {'values': [0, 1, 0, 0, 0, 0, 0, 0, 0, 0, 0, 0...\n",
       "Name: activation_stats.mean, dtype: object"
      ]
     },
     "execution_count": 45,
     "metadata": {},
     "output_type": "execute_result"
    }
   ],
   "source": [
    "history['activation_stats.mean'].dropna()"
   ]
  },
  {
   "cell_type": "code",
   "execution_count": 44,
   "metadata": {},
   "outputs": [
    {
     "data": {
      "text/plain": [
       "1875     {'_type': 'histogram', 'values': [0, 0, 0, 0, ...\n",
       "3751     {'_type': 'histogram', 'values': [61, 44, 51, ...\n",
       "5627     {'_type': 'histogram', 'values': [31, 6, 16, 8...\n",
       "7503     {'_type': 'histogram', 'values': [36, 39, 46, ...\n",
       "9379     {'_type': 'histogram', 'values': [52, 52, 57, ...\n",
       "11255    {'_type': 'histogram', 'values': [67, 59, 57, ...\n",
       "13131    {'_type': 'histogram', 'values': [63, 73, 54, ...\n",
       "15007    {'values': [55, 67, 45, 51, 57, 64, 58, 51, 65...\n",
       "16883    {'_type': 'histogram', 'values': [56, 55, 57, ...\n",
       "18759    {'_type': 'histogram', 'values': [53, 61, 48, ...\n",
       "Name: weight_stats.mean, dtype: object"
      ]
     },
     "execution_count": 44,
     "metadata": {},
     "output_type": "execute_result"
    }
   ],
   "source": [
    "history['weight_stats.mean'].dropna()"
   ]
  }
 ],
 "metadata": {
  "kernelspec": {
   "display_name": "neuroai",
   "language": "python",
   "name": "python3"
  },
  "language_info": {
   "codemirror_mode": {
    "name": "ipython",
    "version": 3
   },
   "file_extension": ".py",
   "mimetype": "text/x-python",
   "name": "python",
   "nbconvert_exporter": "python",
   "pygments_lexer": "ipython3",
   "version": "3.9.19"
  }
 },
 "nbformat": 4,
 "nbformat_minor": 2
}
