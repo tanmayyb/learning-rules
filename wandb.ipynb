{
 "cells": [
  {
   "cell_type": "code",
   "execution_count": 1,
   "metadata": {},
   "outputs": [],
   "source": [
    "import wandb, re\n",
    "# wandb.login()\n",
    "api = wandb.Api()"
   ]
  },
  {
   "cell_type": "code",
   "execution_count": 2,
   "metadata": {},
   "outputs": [
    {
     "name": "stdout",
     "output_type": "stream",
     "text": [
      "#0\n",
      "Run Name: tbishnoi-example-backprop\n",
      "Run ID: u41swpen\n",
      "Config: {'lr': 0.0001, 'bias': False, 'entity': 'adorable-lantanas', 'epochs': 10, 'project': 'learning-rules', 'momentum': 0.9, 'nesterov': True, 'batch_size': 32, 'num_hidden': 100, 'num_inputs': 784, 'num_outputs': 10, 'rule_select': 'backprop', 'clamp_output': True, 'weight_decay': 0.001, 'model_filepath': 'models/model-240725-082550.pth', 'activation_type': 'relu'}\n",
      "----------------------------------------\n",
      "#1\n",
      "Run Name: tbishnoi-example-np\n",
      "Run ID: des7zvku\n",
      "Config: {'lr': 0.0001, 'bias': False, 'entity': 'adorable-lantanas', 'epochs': 10, 'project': 'learning-rules', 'momentum': 0.9, 'nesterov': True, 'batch_size': 32, 'num_hidden': 100, 'num_inputs': 784, 'num_outputs': 10, 'rule_select': 'np', 'clamp_output': True, 'weight_decay': 0.001, 'model_filepath': 'models/model-240725-081109.pth', 'activation_type': 'relu'}\n",
      "----------------------------------------\n",
      "#2\n",
      "Run Name: tbishnoi-example-wp\n",
      "Run ID: 14gq92su\n",
      "Config: {'lr': 0.0001, 'bias': False, 'entity': 'adorable-lantanas', 'epochs': 10, 'project': 'learning-rules', 'momentum': 0.9, 'nesterov': True, 'batch_size': 32, 'num_hidden': 100, 'num_inputs': 784, 'num_outputs': 10, 'rule_select': 'wp', 'clamp_output': True, 'weight_decay': 0.001, 'model_filepath': 'models/model-240725-080653.pth', 'activation_type': 'relu'}\n",
      "----------------------------------------\n",
      "#3\n",
      "Run Name: tbishnoi-example-hebb\n",
      "Run ID: yzkvch8a\n",
      "Config: {'lr': 0.0001, 'bias': False, 'entity': 'adorable-lantanas', 'epochs': 10, 'project': 'learning-rules', 'momentum': 0.9, 'nesterov': True, 'batch_size': 32, 'num_hidden': 100, 'num_inputs': 784, 'num_outputs': 10, 'rule_select': 'hebb', 'clamp_output': True, 'weight_decay': 0.001, 'model_filepath': 'models/model-240725-080250.pth', 'activation_type': 'relu'}\n",
      "----------------------------------------\n",
      "#4\n",
      "Run Name: tbishnoi-example-backprop\n",
      "Run ID: zsb14f3x\n",
      "Config: {'lr': 0.0001, 'bias': False, 'entity': 'adorable-lantanas', 'epochs': 10, 'project': 'learning-rules', 'momentum': 0.9, 'nesterov': True, 'batch_size': 32, 'num_hidden': 100, 'num_inputs': 784, 'num_outputs': 10, 'rule_select': 'backprop', 'clamp_output': True, 'weight_decay': 0.001, 'model_filepath': 'models/model-240725-075850.pth', 'activation_type': 'relu'}\n",
      "----------------------------------------\n"
     ]
    }
   ],
   "source": [
    "entity = \"adorable-lantanas\"\n",
    "project = \"learning-rules\"\n",
    "\n",
    "project_path = f\"{entity}/{project}\"\n",
    "runs = api.runs(project_path)\n",
    "\n",
    "search_pattern = r\"example\" # search all runs using key\n",
    "\n",
    "# will print details of all runs, select run id of your run\n",
    "# and paste it in the next cell\n",
    "n = 0\n",
    "for run in reversed(runs):\n",
    "    if re.search(search_pattern, run.name):\n",
    "        print(f\"#{n}\")\n",
    "        print(f\"Run Name: {run.name}\")\n",
    "        print(f\"Run ID: {run.id}\")\n",
    "        print(\"Config:\", run.config)\n",
    "        print(\"-\" * 40)\n",
    "        n+=1"
   ]
  },
  {
   "cell_type": "code",
   "execution_count": 3,
   "metadata": {},
   "outputs": [],
   "source": [
    "run_id = \"zsb14f3x\" # retrived from above\n",
    "run_path = f\"{project_path}/{run_id}\"\n",
    "\n",
    "run = api.run(run_path)\n",
    "\n",
    "configs = run.config  # Hyperparameters and config info\n",
    "summary = run.summary  # Summary metrics\n",
    "history = run.history()  # Full history of metrics\n",
    "files = run.files()  # Files associated with the run"
   ]
  },
  {
   "cell_type": "code",
   "execution_count": 4,
   "metadata": {},
   "outputs": [
    {
     "data": {
      "text/plain": [
       "{'lr': 0.0001,\n",
       " 'bias': False,\n",
       " 'entity': 'adorable-lantanas',\n",
       " 'epochs': 10,\n",
       " 'project': 'learning-rules',\n",
       " 'momentum': 0.9,\n",
       " 'nesterov': True,\n",
       " 'batch_size': 32,\n",
       " 'num_hidden': 100,\n",
       " 'num_inputs': 784,\n",
       " 'num_outputs': 10,\n",
       " 'rule_select': 'backprop',\n",
       " 'clamp_output': True,\n",
       " 'weight_decay': 0.001,\n",
       " 'model_filepath': 'models/model-240725-075850.pth',\n",
       " 'activation_type': 'relu'}"
      ]
     },
     "execution_count": 4,
     "metadata": {},
     "output_type": "execute_result"
    }
   ],
   "source": [
    "configs"
   ]
  },
  {
   "cell_type": "code",
   "execution_count": 5,
   "metadata": {},
   "outputs": [],
   "source": [
    "import torch\n",
    "device = torch.device('cuda' if torch.cuda.is_available() else 'cpu')\n",
    "\n",
    "from utils.training_utils import select_model\n",
    "model = select_model(configs=configs, device=device)"
   ]
  },
  {
   "cell_type": "code",
   "execution_count": 6,
   "metadata": {},
   "outputs": [],
   "source": [
    "model_filepath = configs['model_filepath']\n",
    "file = run.file(model_filepath)\n",
    "_ = file.download(replace=True, root=\".\")"
   ]
  },
  {
   "cell_type": "code",
   "execution_count": 7,
   "metadata": {},
   "outputs": [
    {
     "data": {
      "text/plain": [
       "<All keys matched successfully>"
      ]
     },
     "execution_count": 7,
     "metadata": {},
     "output_type": "execute_result"
    }
   ],
   "source": [
    "model.load_state_dict(\n",
    "    torch.load(\n",
    "        model_filepath,\n",
    "        map_location=torch.device(device.type),\n",
    "    )\n",
    ")"
   ]
  }
 ],
 "metadata": {
  "kernelspec": {
   "display_name": "neuroai",
   "language": "python",
   "name": "python3"
  },
  "language_info": {
   "codemirror_mode": {
    "name": "ipython",
    "version": 3
   },
   "file_extension": ".py",
   "mimetype": "text/x-python",
   "name": "python",
   "nbconvert_exporter": "python",
   "pygments_lexer": "ipython3",
   "version": "3.9.19"
  }
 },
 "nbformat": 4,
 "nbformat_minor": 2
}
