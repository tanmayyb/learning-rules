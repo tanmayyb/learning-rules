{
 "cells": [
  {
   "cell_type": "code",
   "execution_count": 1,
   "metadata": {},
   "outputs": [
    {
     "name": "stdout",
     "output_type": "stream",
     "text": [
      "/home/dev/ws_neuroai\n"
     ]
    }
   ],
   "source": [
    "# for my own ting\n",
    "%cd /home/dev/ws_neuroai"
   ]
  },
  {
   "cell_type": "markdown",
   "metadata": {},
   "source": [
    "## RDMS BABBYYYYYY"
   ]
  },
  {
   "cell_type": "code",
   "execution_count": 2,
   "metadata": {},
   "outputs": [
    {
     "name": "stderr",
     "output_type": "stream",
     "text": [
      "Failed to detect the name of this notebook, you can set it manually with the WANDB_NOTEBOOK_NAME environment variable to enable code saving.\n",
      "\u001b[34m\u001b[1mwandb\u001b[0m: Currently logged in as: \u001b[33mtbishnoi\u001b[0m (\u001b[33mutmist-parsimony\u001b[0m). Use \u001b[1m`wandb login --relogin`\u001b[0m to force relogin\n"
     ]
    }
   ],
   "source": [
    "!pip install wandb --quiet\n",
    "import wandb, re\n",
    "wandb.login(\n",
    "  key=\"\"      # <<<<<<<<<<<<<<<<<< paste your api key here\n",
    ")\n",
    "api = wandb.Api()"
   ]
  },
  {
   "cell_type": "code",
   "execution_count": 3,
   "metadata": {},
   "outputs": [
    {
     "name": "stdout",
     "output_type": "stream",
     "text": [
      "#0\n",
      "Run Name: tbishnoi-run-0-backprop-9\n",
      "Run ID: 4gwtw8yi\n",
      "Config: {'lr': 0.01, 'bias': True, 'entity': 'adorable-lantanas', 'epochs': 10, 'project': 'bp-vs-wp', 'momentum': 0.9, 'nesterov': True, 'batch_size': 32, 'num_hidden': 100, 'num_inputs': 784, 'num_outputs': 10, 'random_seed': 9, 'rule_select': 'backprop', 'weight_decay': 0, 'model_filepath': 'models/model-240725-225737.pth', 'activation_type': 'relu', 'experiment_name': 'tbishnoi-run-0-backprop-9'}\n",
      "----------------------------------------\n",
      "#1\n",
      "Run Name: tbishnoi-run-0-backprop-8\n",
      "Run ID: byeo296d\n",
      "Config: {'lr': 0.01, 'bias': True, 'entity': 'adorable-lantanas', 'epochs': 10, 'project': 'bp-vs-wp', 'momentum': 0.9, 'nesterov': True, 'batch_size': 32, 'num_hidden': 100, 'num_inputs': 784, 'num_outputs': 10, 'random_seed': 8, 'rule_select': 'backprop', 'weight_decay': 0, 'model_filepath': 'models/model-240725-225614.pth', 'activation_type': 'relu', 'experiment_name': 'tbishnoi-run-0-backprop-8'}\n",
      "----------------------------------------\n",
      "#2\n",
      "Run Name: tbishnoi-run-0-backprop-7\n",
      "Run ID: nwxlrij6\n",
      "Config: {'lr': 0.01, 'bias': True, 'entity': 'adorable-lantanas', 'epochs': 10, 'project': 'bp-vs-wp', 'momentum': 0.9, 'nesterov': True, 'batch_size': 32, 'num_hidden': 100, 'num_inputs': 784, 'num_outputs': 10, 'random_seed': 7, 'rule_select': 'backprop', 'weight_decay': 0, 'model_filepath': 'models/model-240725-225439.pth', 'activation_type': 'relu', 'experiment_name': 'tbishnoi-run-0-backprop-7'}\n",
      "----------------------------------------\n",
      "#3\n",
      "Run Name: tbishnoi-run-0-backprop-6\n",
      "Run ID: x9gd0vyx\n",
      "Config: {'lr': 0.01, 'bias': True, 'entity': 'adorable-lantanas', 'epochs': 10, 'project': 'bp-vs-wp', 'momentum': 0.9, 'nesterov': True, 'batch_size': 32, 'num_hidden': 100, 'num_inputs': 784, 'num_outputs': 10, 'random_seed': 6, 'rule_select': 'backprop', 'weight_decay': 0, 'model_filepath': 'models/model-240725-225314.pth', 'activation_type': 'relu', 'experiment_name': 'tbishnoi-run-0-backprop-6'}\n",
      "----------------------------------------\n",
      "#4\n",
      "Run Name: tbishnoi-run-0-backprop-5\n",
      "Run ID: 7t9gqunf\n",
      "Config: {'lr': 0.01, 'bias': True, 'entity': 'adorable-lantanas', 'epochs': 10, 'project': 'bp-vs-wp', 'momentum': 0.9, 'nesterov': True, 'batch_size': 32, 'num_hidden': 100, 'num_inputs': 784, 'num_outputs': 10, 'random_seed': 5, 'rule_select': 'backprop', 'weight_decay': 0, 'model_filepath': 'models/model-240725-225156.pth', 'activation_type': 'relu', 'experiment_name': 'tbishnoi-run-0-backprop-5'}\n",
      "----------------------------------------\n",
      "#5\n",
      "Run Name: tbishnoi-run-0-backprop-4\n",
      "Run ID: rpxxcptz\n",
      "Config: {'lr': 0.01, 'bias': True, 'entity': 'adorable-lantanas', 'epochs': 10, 'project': 'bp-vs-wp', 'momentum': 0.9, 'nesterov': True, 'batch_size': 32, 'num_hidden': 100, 'num_inputs': 784, 'num_outputs': 10, 'random_seed': 4, 'rule_select': 'backprop', 'weight_decay': 0, 'model_filepath': 'models/model-240725-225032.pth', 'activation_type': 'relu', 'experiment_name': 'tbishnoi-run-0-backprop-4'}\n",
      "----------------------------------------\n",
      "#6\n",
      "Run Name: tbishnoi-run-0-backprop-3\n",
      "Run ID: sf6mja2s\n",
      "Config: {'lr': 0.01, 'bias': True, 'entity': 'adorable-lantanas', 'epochs': 10, 'project': 'bp-vs-wp', 'momentum': 0.9, 'nesterov': True, 'batch_size': 32, 'num_hidden': 100, 'num_inputs': 784, 'num_outputs': 10, 'random_seed': 3, 'rule_select': 'backprop', 'weight_decay': 0, 'model_filepath': 'models/model-240725-224912.pth', 'activation_type': 'relu', 'experiment_name': 'tbishnoi-run-0-backprop-3'}\n",
      "----------------------------------------\n",
      "#7\n",
      "Run Name: tbishnoi-run-0-backprop-2\n",
      "Run ID: pb5439np\n",
      "Config: {'lr': 0.01, 'bias': True, 'entity': 'adorable-lantanas', 'epochs': 10, 'project': 'bp-vs-wp', 'momentum': 0.9, 'nesterov': True, 'batch_size': 32, 'num_hidden': 100, 'num_inputs': 784, 'num_outputs': 10, 'random_seed': 2, 'rule_select': 'backprop', 'weight_decay': 0, 'model_filepath': 'models/model-240725-224749.pth', 'activation_type': 'relu', 'experiment_name': 'tbishnoi-run-0-backprop-2'}\n",
      "----------------------------------------\n",
      "#8\n",
      "Run Name: tbishnoi-run-0-backprop-1\n",
      "Run ID: r4cn3hu4\n",
      "Config: {'lr': 0.01, 'bias': True, 'entity': 'adorable-lantanas', 'epochs': 10, 'project': 'bp-vs-wp', 'momentum': 0.9, 'nesterov': True, 'batch_size': 32, 'num_hidden': 100, 'num_inputs': 784, 'num_outputs': 10, 'random_seed': 1, 'rule_select': 'backprop', 'weight_decay': 0, 'model_filepath': 'models/model-240725-224621.pth', 'activation_type': 'relu', 'experiment_name': 'tbishnoi-run-0-backprop-1'}\n",
      "----------------------------------------\n",
      "#9\n",
      "Run Name: tbishnoi-run-0-backprop-0\n",
      "Run ID: ve9niowz\n",
      "Config: {'lr': 0.01, 'bias': True, 'entity': 'adorable-lantanas', 'epochs': 10, 'project': 'bp-vs-wp', 'momentum': 0.9, 'nesterov': True, 'batch_size': 32, 'num_hidden': 100, 'num_inputs': 784, 'num_outputs': 10, 'random_seed': 0, 'rule_select': 'backprop', 'weight_decay': 0, 'model_filepath': 'models/model-240725-224440.pth', 'activation_type': 'relu', 'experiment_name': 'tbishnoi-run-0-backprop-0'}\n",
      "----------------------------------------\n",
      "#10\n",
      "Run Name: tbishnoi-testrun-backprop-0\n",
      "Run ID: xy7j98mq\n",
      "Config: {'lr': 0.01, 'bias': True, 'entity': 'adorable-lantanas', 'epochs': 5, 'project': 'bp-vs-wp', 'momentum': 0.9, 'nesterov': True, 'batch_size': 32, 'num_hidden': 100, 'num_inputs': 784, 'num_outputs': 10, 'random_seed': 0, 'rule_select': 'backprop', 'weight_decay': 0, 'model_filepath': 'models/model-240725-224107.pth', 'activation_type': 'relu', 'experiment_name': 'tbishnoi-testrun-backprop-0'}\n",
      "----------------------------------------\n",
      "#11\n",
      "Run Name: tbishnoi-testrun-backprop-0\n",
      "Run ID: 5peysvaz\n",
      "Config: {'lr': 0.01, 'bias': True, 'entity': 'adorable-lantanas', 'epochs': 5, 'project': 'bp-vs-wp', 'momentum': 0.9, 'nesterov': True, 'batch_size': 32, 'num_hidden': 100, 'num_inputs': 784, 'num_outputs': 10, 'random_seed': 0, 'rule_select': 'backprop', 'weight_decay': 0, 'model_filepath': 'models/model-240725-223718.pth', 'activation_type': 'relu', 'experiment_name': 'tbishnoi-testrun-backprop-0'}\n",
      "----------------------------------------\n"
     ]
    }
   ],
   "source": [
    "entity = \"adorable-lantanas\"\n",
    "project = \"bp-vs-wp\"\n",
    "\n",
    "project_path = f\"{entity}/{project}\"\n",
    "runs = api.runs(project_path)\n",
    "\n",
    "search_pattern = r\"backprop\" # search all runs using key\n",
    "\n",
    "# will print details of all runs, select run id of your run\n",
    "# and paste it in the next cell\n",
    "n = 0\n",
    "for run in reversed(runs):\n",
    "    if re.search(search_pattern, run.name):\n",
    "        print(f\"#{n}\")\n",
    "        print(f\"Run Name: {run.name}\")\n",
    "        print(f\"Run ID: {run.id}\")\n",
    "        print(\"Config:\", run.config)\n",
    "        print(\"-\" * 40)\n",
    "        n+=1"
   ]
  },
  {
   "cell_type": "code",
   "execution_count": 4,
   "metadata": {},
   "outputs": [
    {
     "data": {
      "text/plain": [
       "{'lr': 0.01,\n",
       " 'bias': True,\n",
       " 'entity': 'adorable-lantanas',\n",
       " 'epochs': 10,\n",
       " 'project': 'bp-vs-wp',\n",
       " 'momentum': 0.9,\n",
       " 'nesterov': True,\n",
       " 'batch_size': 32,\n",
       " 'num_hidden': 100,\n",
       " 'num_inputs': 784,\n",
       " 'num_outputs': 10,\n",
       " 'random_seed': 9,\n",
       " 'rule_select': 'backprop',\n",
       " 'weight_decay': 0,\n",
       " 'model_filepath': 'models/model-240725-225737.pth',\n",
       " 'activation_type': 'relu',\n",
       " 'experiment_name': 'tbishnoi-run-0-backprop-9'}"
      ]
     },
     "execution_count": 4,
     "metadata": {},
     "output_type": "execute_result"
    }
   ],
   "source": [
    "run_id = \"4gwtw8yi\" # retrived from above\n",
    "run_path = f\"{project_path}/{run_id}\"\n",
    "\n",
    "run = api.run(run_path)\n",
    "\n",
    "configs = run.config  # Hyperparameters and config info\n",
    "summary = run.summary  # Summary metrics\n",
    "history = run.history(samples=1000000)  # Full history of metrics\n",
    "files = run.files()  # Files associated with the run\n",
    "\n",
    "# show configs\n",
    "configs"
   ]
  },
  {
   "cell_type": "code",
   "execution_count": 5,
   "metadata": {},
   "outputs": [],
   "source": [
    "import torch\n",
    "device = torch.device('cuda' if torch.cuda.is_available() else 'cpu')"
   ]
  },
  {
   "cell_type": "markdown",
   "metadata": {},
   "source": [
    "## RDM"
   ]
  },
  {
   "cell_type": "code",
   "execution_count": 6,
   "metadata": {},
   "outputs": [],
   "source": [
    "from rules.classes.MLP import MultiLayerPerceptron \n",
    "\n",
    "class MLP(MultiLayerPerceptron):\n",
    "\n",
    "    def forward(self, X, y=None):\n",
    "        h = self.activation(self.lin1(X.reshape(-1, self.num_inputs)))\n",
    "        y_pred = self.softmax(self.lin2(h))\n",
    "        return y_pred.detach(), h.detach()\n",
    "\n",
    "def load_model(configs, device):\n",
    "    model = MLP(\n",
    "        num_inputs=configs['num_inputs'],\n",
    "        num_hidden=configs['num_hidden'],\n",
    "        num_outputs=configs['num_outputs'],\n",
    "        bias=configs['bias'],\n",
    "        activation_type=configs['activation_type'],\n",
    "    ).to(device)\n",
    "\n",
    "    model_filepath = configs['model_filepath']\n",
    "    file = run.file(model_filepath)\n",
    "    _ = file.download(replace=True, root=\".\")\n",
    "    \n",
    "    model.load_state_dict(\n",
    "        torch.load(\n",
    "            model_filepath,\n",
    "            map_location=torch.device(device.type),\n",
    "        )\n",
    "    )\n",
    "    return model\n",
    "\n",
    "model = load_model(configs, device)"
   ]
  },
  {
   "cell_type": "code",
   "execution_count": 7,
   "metadata": {},
   "outputs": [
    {
     "name": "stdout",
     "output_type": "stream",
     "text": [
      "Number of examples retained:\n",
      "  24001 (training)\n",
      "  5999 (validation)\n",
      "  5000 (test)\n"
     ]
    }
   ],
   "source": [
    "from utils.data_utils import download_mnist\n",
    "\n",
    "_, valid_set, _ = download_mnist()\n",
    "\n",
    "valid_loader = torch.utils.data.DataLoader(valid_set, batch_size=configs['batch_size'], shuffle=False, drop_last=True)"
   ]
  },
  {
   "cell_type": "code",
   "execution_count": 54,
   "metadata": {},
   "outputs": [],
   "source": [
    "X, y = next(iter(valid_loader))\n",
    "X, y = X.to(device), y.to(device) \n",
    "y_pred, h = model.forward(X)\n",
    "y_pred = torch.argmax(y_pred, dim=1)\n",
    "y_pred"
   ]
  },
  {
   "cell_type": "code",
   "execution_count": 57,
   "metadata": {},
   "outputs": [],
   "source": [
    "from collections import defaultdict\n",
    "\n",
    "class Sampler():\n",
    "    def __init__(self, dataset):\n",
    "        self.dataset = defaultdict(list)\n",
    "        for i, (tensor, label) in enumerate(dataset):\n",
    "                self.dataset[label].append(tensor)\n",
    "\n",
    "        self.batches = self.batch()\n",
    "\n",
    "    def batch(self, batch_size=32):    \n",
    "        all_batches = dict()\n",
    "        for label, tensor_list in self.dataset.items():\n",
    "            num_batches = len(tensor_list) // batch_size     \n",
    "            batches = []\n",
    "\n",
    "            for i in range(num_batches):\n",
    "                my_batch = torch.stack(tensor_list[i* batch_size:(i + 1) * batch_size], dim=0)\n",
    "                batches.append(my_batch)\n",
    "            all_batches[label] = batches\n",
    "        return all_batches  \n",
    "\n",
    "    def tips(self):\n",
    "        n = 0 \n",
    "        print(\"classes\\tcounts\")\n",
    "        for label, tensors in sampler.dataset.items():\n",
    "            print(f\"{label}\\t{len(tensors)}\")\n",
    "            n+=len(tensors)\n",
    "        print(f\"n={n}\")\n",
    "\n",
    "    \n",
    "sampler = Sampler(valid_set)\n",
    "batches = sampler.batches"
   ]
  },
  {
   "cell_type": "code",
   "execution_count": 68,
   "metadata": {},
   "outputs": [
    {
     "name": "stdout",
     "output_type": "stream",
     "text": [
      "chosen_class: 0\n",
      "predictions:\n",
      "tensor([0, 0, 0, 0, 0, 0, 0, 0, 0, 0, 0, 0, 0, 0, 0, 0, 0, 0, 0, 0, 0, 0, 0, 0,\n",
      "        0, 0, 0, 0, 2, 0, 0, 0], device='cuda:0')\n",
      "chosen_class: 1\n",
      "predictions:\n",
      "tensor([1, 1, 1, 1, 1, 1, 1, 1, 1, 1, 1, 1, 1, 1, 8, 1, 1, 1, 1, 1, 1, 1, 1, 1,\n",
      "        1, 1, 1, 1, 1, 1, 1, 1], device='cuda:0')\n"
     ]
    }
   ],
   "source": [
    "for chosen_class in range(2):\n",
    "    batch_num = 0 \n",
    "    X = batches[chosen_class][batch_num].to(device)\n",
    "    y_pred, h = model.forward(X)\n",
    "    y_pred = torch.argmax(y_pred, dim=1)\n",
    "    # print(f\"chosen_class: {chosen_class}\")\n",
    "    # print(\"predictions:\")\n",
    "    # print(y_pred)"
   ]
  },
  {
   "cell_type": "code",
   "execution_count": 69,
   "metadata": {},
   "outputs": [],
   "source": [
    "import rsatoolbox\n",
    "from rsatoolbox.data import Dataset\n",
    "from rsatoolbox.rdm.calc import calc_rdm\n",
    "\n",
    "import numpy as np\n",
    "import matplotlib.pyplot as plt\n",
    "from matplotlib.offsetbox import AnnotationBbox, OffsetImage"
   ]
  },
  {
   "cell_type": "code",
   "execution_count": 117,
   "metadata": {},
   "outputs": [
    {
     "data": {
      "text/plain": [
       "torch.Size([3, 1, 28, 28])"
      ]
     },
     "execution_count": 117,
     "metadata": {},
     "output_type": "execute_result"
    }
   ],
   "source": [
    "X[:3].shape"
   ]
  },
  {
   "cell_type": "code",
   "execution_count": 124,
   "metadata": {},
   "outputs": [
    {
     "data": {
      "image/png": "[encoded data removed]",
      "text/plain": [
       "<Figure size 1400x400 with 2 Axes>"
      ]
     },
     "metadata": {},
     "output_type": "display_data"
    }
   ],
   "source": [
    "def plot_maps(\n",
    "    model_features,\n",
    "    #model_name\n",
    "):\n",
    "    \"\"\"\n",
    "    Plots representational dissimilarity matrices (RDMs) across different layers of a model.\n",
    "\n",
    "    Inputs:\n",
    "    - model_features (dict): a dictionary where keys are layer names and values are numpy arrays representing RDMs for each layer.\n",
    "    - model_name (str): the name of the model being visualized.\n",
    "    \"\"\"\n",
    "\n",
    "\n",
    "    fig = plt.figure(figsize=(14, 4))\n",
    "    # fig.suptitle(f\"RDMs across layers for {model_name}\")\n",
    "    # and we add one plot per reference point\n",
    "    gs = fig.add_gridspec(1, len(model_features))\n",
    "    fig.subplots_adjust(wspace=0.2, hspace=0.2)\n",
    "\n",
    "    for l in range(len(model_features)):\n",
    "\n",
    "        layer = list(model_features.keys())[l]\n",
    "        map_ = np.squeeze(model_features[layer])\n",
    "\n",
    "        if len(map_.shape) < 2:\n",
    "            map_ = map_.reshape( (int(np.sqrt(map_.shape[0])), int(np.sqrt(map_.shape[0]))) )\n",
    "\n",
    "        map_ = map_ / np.max(map_)\n",
    "\n",
    "        ax = plt.subplot(gs[0,l])\n",
    "        ax_ = ax.imshow(map_, cmap='magma_r')\n",
    "        ax.set_title(f'{layer}')\n",
    "        ax.set_xlabel(\"input index\")\n",
    "        if l==0:\n",
    "            ax.set_ylabel(\"input index\")\n",
    "\n",
    "    fig.subplots_adjust(right=0.9)\n",
    "    cbar_ax = fig.add_axes([1.01, 0.18, 0.01, 0.53])\n",
    "    cbar = fig.colorbar(ax_, cax=cbar_ax)\n",
    "    cbar.set_label('Dissimilarity', rotation=270, labelpad=15)\n",
    "\n",
    "    plt.show()\n",
    "\n",
    "\n",
    "def calc_rdms(batches, batch_size=2):\n",
    "    ds_list = list()\n",
    "    feature_list = list()\n",
    "\n",
    "    batch_num = 0    \n",
    "    X = torch.cat([batches[input_class][batch_num][:batch_size].to(device) for input_class in range(0,10)], dim=1)\n",
    "    y_pred, h = model.forward(X)\n",
    "    y_pred = torch.argmax(y_pred, dim=1)\n",
    "    \n",
    "    feats = h\n",
    "    if len(feats.shape) > 2:\n",
    "        feats = feats.flatten(1)\n",
    "    ds = Dataset(\n",
    "        feats.cpu().detach().numpy(), \n",
    "        descriptors=dict(\n",
    "            layer='hidden layer', batch_num=batch_num\n",
    "        )\n",
    "    )\n",
    "    ds_list.append(ds)\n",
    "    feature_list.append(\"hidden_layer\")\n",
    "\n",
    "    return ds_list, feature_list\n",
    "\n",
    "method='correlation'\n",
    "ds_list, feature_list = calc_rdms(batches, batch_size=5)\n",
    "rdms = calc_rdm(ds_list, method=method)\n",
    "rdms_dict = {feature: rdms.get_matrices()[i] for i, feature in enumerate(feature_list)}\n",
    "plot_maps(rdms_dict)"
   ]
  }
 ],
 "metadata": {
  "kernelspec": {
   "display_name": "neuroai",
   "language": "python",
   "name": "python3"
  },
  "language_info": {
   "codemirror_mode": {
    "name": "ipython",
    "version": 3
   },
   "file_extension": ".py",
   "mimetype": "text/x-python",
   "name": "python",
   "nbconvert_exporter": "python",
   "pygments_lexer": "ipython3",
   "version": "3.9.19"
  }
 },
 "nbformat": 4,
 "nbformat_minor": 2
}
