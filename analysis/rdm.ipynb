{
 "cells": [
  {
   "cell_type": "code",
   "execution_count": 10,
   "metadata": {},
   "outputs": [
    {
     "name": "stdout",
     "output_type": "stream",
     "text": [
      "/home/dev/ws_neuroai\n"
     ]
    }
   ],
   "source": [
    "# for my own ting\n",
    "%cd /home/dev/ws_neuroai"
   ]
  },
  {
   "cell_type": "markdown",
   "metadata": {},
   "source": [
    "## RDMS BABBYYYYYY"
   ]
  },
  {
   "cell_type": "code",
   "execution_count": 2,
   "metadata": {},
   "outputs": [
    {
     "name": "stderr",
     "output_type": "stream",
     "text": [
      "Failed to detect the name of this notebook, you can set it manually with the WANDB_NOTEBOOK_NAME environment variable to enable code saving.\n",
      "\u001b[34m\u001b[1mwandb\u001b[0m: Currently logged in as: \u001b[33mtbishnoi\u001b[0m (\u001b[33mutmist-parsimony\u001b[0m). Use \u001b[1m`wandb login --relogin`\u001b[0m to force relogin\n"
     ]
    }
   ],
   "source": [
    "!pip install wandb --quiet\n",
    "import wandb, re\n",
    "wandb.login(\n",
    "  key=\"\"      # <<<<<<<<<<<<<<<<<< paste your api key here\n",
    ")\n",
    "api = wandb.Api()"
   ]
  },
  {
   "cell_type": "code",
   "execution_count": 3,
   "metadata": {},
   "outputs": [
    {
     "name": "stdout",
     "output_type": "stream",
     "text": [
      "#0\n",
      "Run Name: tbishnoi-example-np\n",
      "Run ID: des7zvku\n",
      "Config: {'lr': 0.0001, 'bias': False, 'entity': 'adorable-lantanas', 'epochs': 10, 'project': 'learning-rules', 'momentum': 0.9, 'nesterov': True, 'batch_size': 32, 'num_hidden': 100, 'num_inputs': 784, 'num_outputs': 10, 'rule_select': 'np', 'clamp_output': True, 'weight_decay': 0.001, 'model_filepath': 'models/model-240725-081109.pth', 'activation_type': 'relu'}\n",
      "----------------------------------------\n",
      "#1\n",
      "Run Name: tbishnoi-example-wp\n",
      "Run ID: 14gq92su\n",
      "Config: {'lr': 0.0001, 'bias': False, 'entity': 'adorable-lantanas', 'epochs': 10, 'project': 'learning-rules', 'momentum': 0.9, 'nesterov': True, 'batch_size': 32, 'num_hidden': 100, 'num_inputs': 784, 'num_outputs': 10, 'rule_select': 'wp', 'clamp_output': True, 'weight_decay': 0.001, 'model_filepath': 'models/model-240725-080653.pth', 'activation_type': 'relu'}\n",
      "----------------------------------------\n",
      "#2\n",
      "Run Name: tbishnoi-example-hebb\n",
      "Run ID: yzkvch8a\n",
      "Config: {'lr': 0.0001, 'bias': False, 'entity': 'adorable-lantanas', 'epochs': 10, 'project': 'learning-rules', 'momentum': 0.9, 'nesterov': True, 'batch_size': 32, 'num_hidden': 100, 'num_inputs': 784, 'num_outputs': 10, 'rule_select': 'hebb', 'clamp_output': True, 'weight_decay': 0.001, 'model_filepath': 'models/model-240725-080250.pth', 'activation_type': 'relu'}\n",
      "----------------------------------------\n",
      "#3\n",
      "Run Name: tbishnoi-example-backprop\n",
      "Run ID: zsb14f3x\n",
      "Config: {'lr': 0.0001, 'bias': False, 'entity': 'adorable-lantanas', 'epochs': 10, 'project': 'learning-rules', 'momentum': 0.9, 'nesterov': True, 'batch_size': 32, 'num_hidden': 100, 'num_inputs': 784, 'num_outputs': 10, 'rule_select': 'backprop', 'clamp_output': True, 'weight_decay': 0.001, 'model_filepath': 'models/model-240725-075850.pth', 'activation_type': 'relu'}\n",
      "----------------------------------------\n"
     ]
    }
   ],
   "source": [
    "entity = \"adorable-lantanas\"\n",
    "project = \"learning-rules\"\n",
    "\n",
    "project_path = f\"{entity}/{project}\"\n",
    "runs = api.runs(project_path)\n",
    "\n",
    "search_pattern = r\"example\" # search all runs using key\n",
    "\n",
    "# will print details of all runs, select run id of your run\n",
    "# and paste it in the next cell\n",
    "n = 0\n",
    "for run in reversed(runs):\n",
    "    if re.search(search_pattern, run.name):\n",
    "        print(f\"#{n}\")\n",
    "        print(f\"Run Name: {run.name}\")\n",
    "        print(f\"Run ID: {run.id}\")\n",
    "        print(\"Config:\", run.config)\n",
    "        print(\"-\" * 40)\n",
    "        n+=1"
   ]
  },
  {
   "cell_type": "code",
   "execution_count": 4,
   "metadata": {},
   "outputs": [
    {
     "data": {
      "text/plain": [
       "{'lr': 0.0001,\n",
       " 'bias': False,\n",
       " 'entity': 'adorable-lantanas',\n",
       " 'epochs': 2,\n",
       " 'project': 'learning-rules',\n",
       " 'momentum': 0.9,\n",
       " 'nesterov': True,\n",
       " 'batch_size': 32,\n",
       " 'num_hidden': 100,\n",
       " 'num_inputs': 784,\n",
       " 'num_outputs': 10,\n",
       " 'rule_select': 'backprop',\n",
       " 'clamp_output': True,\n",
       " 'weight_decay': 0.001,\n",
       " 'model_filepath': 'models/model-240725-135558.pth',\n",
       " 'activation_type': 'relu'}"
      ]
     },
     "execution_count": 4,
     "metadata": {},
     "output_type": "execute_result"
    }
   ],
   "source": [
    "run_id = \"wx4rd5wz\" # retrived from above\n",
    "run_path = f\"{project_path}/{run_id}\"\n",
    "\n",
    "run = api.run(run_path)\n",
    "\n",
    "configs = run.config  # Hyperparameters and config info\n",
    "summary = run.summary  # Summary metrics\n",
    "history = run.history(samples=1000000)  # Full history of metrics\n",
    "files = run.files()  # Files associated with the run\n",
    "\n",
    "# show configs\n",
    "configs"
   ]
  },
  {
   "cell_type": "code",
   "execution_count": 5,
   "metadata": {},
   "outputs": [],
   "source": [
    "import torch\n",
    "device = torch.device('cuda' if torch.cuda.is_available() else 'cpu')\n",
    "\n",
    "from utils.training_utils import select_model\n",
    "model = select_model(configs=configs, device=device)"
   ]
  },
  {
   "cell_type": "code",
   "execution_count": 6,
   "metadata": {},
   "outputs": [],
   "source": [
    "model_filepath = configs['model_filepath']\n",
    "file = run.file(model_filepath)\n",
    "_ = file.download(replace=True, root=\".\")"
   ]
  },
  {
   "cell_type": "code",
   "execution_count": 7,
   "metadata": {},
   "outputs": [
    {
     "data": {
      "text/plain": [
       "MultiLayerPerceptron(\n",
       "  (lin1): Linear(in_features=784, out_features=100, bias=False)\n",
       "  (lin2): Linear(in_features=100, out_features=10, bias=False)\n",
       "  (activation): ReLU()\n",
       "  (softmax): Softmax(dim=1)\n",
       ")"
      ]
     },
     "execution_count": 7,
     "metadata": {},
     "output_type": "execute_result"
    }
   ],
   "source": [
    "model.load_state_dict(\n",
    "  torch.load(\n",
    "    model_filepath,\n",
    "    map_location=torch.device(device.type),\n",
    "  )\n",
    ")\n",
    "model"
   ]
  },
  {
   "cell_type": "markdown",
   "metadata": {},
   "source": [
    "## RDM"
   ]
  },
  {
   "cell_type": "markdown",
   "metadata": {},
   "source": [
    "\n",
    "\n",
    "bias=True\n",
    "reasonable lr (by NMA nbs)\n",
    "avoid weight decay =False\n",
    "weight decay = False?\n",
    "n_epochs = 20\n",
    "\n",
    "seed = vary across models\n",
    "\n",
    "backprop:\n",
    "    1e-2\n",
    "wp \n",
    "    use from docstring\n",
    "    lr=1e-4\n",
    "    noise=1e-3    \n",
    "\n",
    "\n",
    "np\n",
    "    skip for this plan\n",
    "\n",
    "hebb:\n",
    "    lr=1e-4\n",
    "    clamp output=True\n",
    "    skip for now, until 2 class setup\n",
    "\n",
    "BasicOptimizer"
   ]
  },
  {
   "cell_type": "code",
   "execution_count": null,
   "metadata": {},
   "outputs": [],
   "source": []
  }
 ],
 "metadata": {
  "kernelspec": {
   "display_name": "neuroai",
   "language": "python",
   "name": "python3"
  },
  "language_info": {
   "codemirror_mode": {
    "name": "ipython",
    "version": 3
   },
   "file_extension": ".py",
   "mimetype": "text/x-python",
   "name": "python",
   "nbconvert_exporter": "python",
   "pygments_lexer": "ipython3",
   "version": "3.9.19"
  }
 },
 "nbformat": 4,
 "nbformat_minor": 2
}
