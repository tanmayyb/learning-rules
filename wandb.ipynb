{
 "cells": [
  {
   "cell_type": "code",
   "execution_count": 2,
   "metadata": {},
   "outputs": [],
   "source": [
    "import wandb"
   ]
  },
  {
   "cell_type": "code",
   "execution_count": 22,
   "metadata": {},
   "outputs": [
    {
     "name": "stdout",
     "output_type": "stream",
     "text": [
      "#0\n",
      "Run Name: jtindall-colabtraintest-0\n",
      "Run ID: 4dxgekh9\n",
      "Config: {'lr': 0.0001, 'bias': False, 'entity': 'adorable-lantanas', 'epochs': 2, 'project': 'learning-rules', 'momentum': 0.9, 'nesterov': True, 'batch_size': 32, 'num_hidden': 100, 'num_inputs': 784, 'num_outputs': 10, 'rule_select': 'hebb', 'clamp_output': False, 'weight_decay': 0.001, 'activation_type': 'relu'}\n",
      "----------------------------------------\n",
      "#1\n",
      "Run Name: jtindall-colabtraintest-0\n",
      "Run ID: j04ddvla\n",
      "Config: {'lr': 0.0001, 'bias': False, 'entity': 'adorable-lantanas', 'epochs': 2, 'project': 'learning-rules', 'momentum': 0.9, 'nesterov': True, 'batch_size': 32, 'num_hidden': 100, 'num_inputs': 784, 'num_outputs': 10, 'rule_select': 'hebb', 'clamp_output': False, 'weight_decay': 0.001, 'activation_type': 'relu'}\n",
      "----------------------------------------\n",
      "#2\n",
      "Run Name: jtindall-colabtraintest-0\n",
      "Run ID: u9ycdz9s\n",
      "Config: {'lr': 0.0001, 'bias': False, 'entity': 'adorable-lantanas', 'epochs': 2, 'project': 'learning-rules', 'momentum': 0.9, 'nesterov': True, 'batch_size': 32, 'num_hidden': 100, 'num_inputs': 784, 'num_outputs': 10, 'rule_select': 'hebb', 'clamp_output': False, 'weight_decay': 0.001, 'activation_type': 'relu'}\n",
      "----------------------------------------\n",
      "#3\n",
      "Run Name: jtindall-colabtraintest-0\n",
      "Run ID: 53cy3g8d\n",
      "Config: {'lr': 0.0001, 'bias': False, 'entity': 'adorable-lantanas', 'epochs': 2, 'project': 'learning-rules', 'momentum': 0.9, 'nesterov': True, 'batch_size': 32, 'num_hidden': 100, 'num_inputs': 784, 'num_outputs': 10, 'rule_select': 'hebb', 'clamp_output': False, 'weight_decay': 0.001, 'activation_type': 'relu'}\n",
      "----------------------------------------\n",
      "#4\n",
      "Run Name: jtindall-colabtraintest-0\n",
      "Run ID: y9jyro4j\n",
      "Config: {'lr': 0.0001, 'bias': False, 'entity': 'adorable-lantanas', 'epochs': 2, 'project': 'learning-rules', 'momentum': 0.9, 'nesterov': True, 'batch_size': 32, 'num_hidden': 100, 'num_inputs': 784, 'num_outputs': 10, 'rule_select': 'hebb', 'clamp_output': False, 'weight_decay': 0.001, 'activation_type': 'relu'}\n",
      "----------------------------------------\n",
      "#5\n",
      "Run Name: jtindall-colabtraintest-0\n",
      "Run ID: pzqikk3g\n",
      "Config: {'lr': 0.0001, 'bias': False, 'entity': 'adorable-lantanas', 'epochs': 2, 'project': 'learning-rules', 'momentum': 0.9, 'nesterov': True, 'batch_size': 32, 'num_hidden': 100, 'num_inputs': 784, 'num_outputs': 10, 'rule_select': 'hebb', 'clamp_output': False, 'weight_decay': 0.001, 'activation_type': 'relu'}\n",
      "----------------------------------------\n",
      "#6\n",
      "Run Name: jtindall-colabtraintest-0\n",
      "Run ID: mr5jkge5\n",
      "Config: {'lr': 0.0001, 'bias': False, 'entity': 'adorable-lantanas', 'epochs': 2, 'project': 'learning-rules', 'momentum': 0.9, 'nesterov': True, 'batch_size': 32, 'num_hidden': 100, 'num_inputs': 784, 'num_outputs': 10, 'rule_select': 'hebb', 'clamp_output': False, 'weight_decay': 0.001, 'activation_type': 'relu'}\n",
      "----------------------------------------\n",
      "#7\n",
      "Run Name: jtindall-colabtraintest-0\n",
      "Run ID: lr6bz7l4\n",
      "Config: {'lr': 0.0001, 'bias': False, 'entity': 'adorable-lantanas', 'epochs': 2, 'project': 'learning-rules', 'momentum': 0.9, 'nesterov': True, 'batch_size': 32, 'num_hidden': 100, 'num_inputs': 784, 'num_outputs': 10, 'rule_select': 'hebb', 'clamp_output': False, 'weight_decay': 0.001, 'activation_type': 'relu'}\n",
      "----------------------------------------\n",
      "#8\n",
      "Run Name: jtindall-colabtraintest-0\n",
      "Run ID: 7dzwsqvw\n",
      "Config: {'lr': 0.0001, 'bias': False, 'entity': 'adorable-lantanas', 'epochs': 2, 'project': 'learning-rules', 'momentum': 0.9, 'nesterov': True, 'batch_size': 32, 'num_hidden': 100, 'num_inputs': 784, 'num_outputs': 10, 'rule_select': 'hebb', 'clamp_output': False, 'weight_decay': 0.001, 'activation_type': 'relu'}\n",
      "----------------------------------------\n",
      "#9\n",
      "Run Name: jtindall-colabtraintest-0\n",
      "Run ID: xxqbfcjp\n",
      "Config: {'lr': 0.0001, 'bias': False, 'entity': 'adorable-lantanas', 'epochs': 2, 'project': 'learning-rules', 'momentum': 0.9, 'nesterov': True, 'batch_size': 32, 'num_hidden': 100, 'num_inputs': 784, 'num_outputs': 10, 'rule_select': 'hebb', 'clamp_output': False, 'weight_decay': 0.001, 'activation_type': 'relu'}\n",
      "----------------------------------------\n",
      "#10\n",
      "Run Name: jtindall-colabtraintest-0\n",
      "Run ID: q591zazm\n",
      "Config: {'lr': 0.0001, 'bias': False, 'entity': 'adorable-lantanas', 'epochs': 2, 'project': 'learning-rules', 'momentum': 0.9, 'nesterov': True, 'batch_size': 32, 'num_hidden': 100, 'num_inputs': 784, 'num_outputs': 10, 'rule_select': 'hebb', 'clamp_output': False, 'weight_decay': 0.001, 'activation_type': 'relu'}\n",
      "----------------------------------------\n",
      "#11\n",
      "Run Name: jtindall-colabtraintest-0\n",
      "Run ID: 6j1jrsit\n",
      "Config: {'lr': 0.0001, 'bias': False, 'epochs': 2, 'momentum': 0.9, 'nesterov': True, 'batch_size': 32, 'num_hidden': 100, 'num_inputs': 784, 'num_outputs': 10, 'rule_select': 'hebb', 'clamp_output': False, 'weight_decay': 0.001, 'activation_type': 'relu'}\n",
      "----------------------------------------\n"
     ]
    }
   ],
   "source": [
    "api = wandb.Api()\n",
    "project_path = \"adorable-lantanas/learning-rules\"\n",
    "\n",
    "# Retrieve all runs in the project\n",
    "runs = api.runs(project_path)\n",
    "\n",
    "# Iterate through runs and fetch config\n",
    "\n",
    "import re\n",
    "\n",
    "pattern = r\"jtindall-colab\"\n",
    "\n",
    "n = 0\n",
    "for run in reversed(runs):\n",
    "    if re.search(pattern, run.name):\n",
    "        print(f\"#{n}\")\n",
    "        print(f\"Run Name: {run.name}\")\n",
    "        print(f\"Run ID: {run.id}\")\n",
    "        print(\"Config:\", run.config)\n",
    "        print(\"-\" * 40)\n",
    "        n+=1"
   ]
  }
 ],
 "metadata": {
  "kernelspec": {
   "display_name": "neuroai",
   "language": "python",
   "name": "python3"
  },
  "language_info": {
   "codemirror_mode": {
    "name": "ipython",
    "version": 3
   },
   "file_extension": ".py",
   "mimetype": "text/x-python",
   "name": "python",
   "nbconvert_exporter": "python",
   "pygments_lexer": "ipython3",
   "version": "3.9.19"
  }
 },
 "nbformat": 4,
 "nbformat_minor": 2
}
