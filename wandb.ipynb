{
 "cells": [
  {
   "cell_type": "code",
   "execution_count": null,
   "metadata": {},
   "outputs": [],
   "source": [
    "import wandb\n",
    "wandb.login()\n",
    "\n",
    "api = wandb.Api()"
   ]
  },
  {
   "cell_type": "code",
   "execution_count": null,
   "metadata": {},
   "outputs": [],
   "source": [
    "org = \"adorable-lantanas\"\n",
    "project = \"learning-rules\"\n",
    "\n",
    "project_path = f\"{org}/{project}\"\n",
    "runs = api.runs(project_path)\n",
    "\n",
    "import re\n",
    "pattern = r\"tbishnoi\" # here im looking for all runs including the name \"tbishnoi\"\n",
    "\n",
    "n = 0\n",
    "for run in reversed(runs):\n",
    "    if re.search(pattern, run.name):\n",
    "        print(f\"#{n}\")\n",
    "        print(f\"Run Name: {run.name}\")\n",
    "        print(f\"Run ID: {run.id}\")\n",
    "        print(\"Config:\", run.config)\n",
    "        print(\"-\" * 40)\n",
    "        n+=1"
   ]
  },
  {
   "cell_type": "code",
   "execution_count": null,
   "metadata": {},
   "outputs": [],
   "source": [
    "run_id = \"p4e3vsy1\" # retrived from above\n",
    "run_path = f\"{project_path}/{run_id}\" \n",
    "\n",
    "run = api.run(run_path)\n",
    "config = run.config  # Hyperparameters\n",
    "summary = run.summary  # Summary metrics\n",
    "history = run.history()  # Full history of metrics\n",
    "files = run.files()  # Files associated with the run"
   ]
  },
  {
   "cell_type": "code",
   "execution_count": null,
   "metadata": {},
   "outputs": [],
   "source": [
    "file = run.file(config['model_filepath'])\n",
    "_ = file.download(replace=True, root=\".\")"
   ]
  }
 ],
 "metadata": {
  "kernelspec": {
   "display_name": "neuroai",
   "language": "python",
   "name": "python3"
  },
  "language_info": {
   "codemirror_mode": {
    "name": "ipython",
    "version": 3
   },
   "file_extension": ".py",
   "mimetype": "text/x-python",
   "name": "python",
   "nbconvert_exporter": "python",
   "pygments_lexer": "ipython3",
   "version": "3.9.19"
  }
 },
 "nbformat": 4,
 "nbformat_minor": 2
}
